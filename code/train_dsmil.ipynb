{
 "cells": [
  {
   "cell_type": "code",
   "execution_count": 1,
   "metadata": {},
   "outputs": [],
   "source": [
    "import torch\n",
    "import numpy as np\n",
    "import json\n",
    "import os\n",
    "import argparse\n",
    "\n",
    "from utils.datasets import WSIData\n",
    "from torch.utils.data import DataLoader\n",
    "from utils.train_dsmil import train_dsmil_model\n",
    "from utils.test_dsmil import test_dsmil_model\n",
    "from models.dsmil import MILNet, FCLayer, BClassifier\n",
    "\n",
    "import matplotlib.pyplot as plt"
   ]
  },
  {
   "cell_type": "code",
   "execution_count": 2,
   "metadata": {},
   "outputs": [],
   "source": [
    "import sys\n",
    "sys.path.append('../utils')\n",
    "from S3FileManager import S3FileManager\n",
    "\n",
    "bucket_name = 'oncodata-sagemaker-shared/roraima/features/stomach/Stomach_feats_mocov3/v1/'\n",
    "local_dir = '/tmp/train-data'\n",
    "\n",
    "file_manager = S3FileManager(bucket_name=bucket_name, local_dir=local_dir)"
   ]
  },
  {
   "cell_type": "code",
   "execution_count": 3,
   "metadata": {},
   "outputs": [
    {
     "name": "stdout",
     "output_type": "stream",
     "text": [
      "stomach_json.json  stomach_json_test.json  stomach_json_train.json\n"
     ]
    }
   ],
   "source": [
    "ls *.json"
   ]
  },
  {
   "cell_type": "code",
   "execution_count": 4,
   "metadata": {},
   "outputs": [
    {
     "name": "stdout",
     "output_type": "stream",
     "text": [
      "2.0.0.post101\n",
      "3.10.13 | packaged by conda-forge | (main, Dec 23 2023, 15:36:39) [GCC 12.3.0]\n"
     ]
    }
   ],
   "source": [
    "# print the current pytorch and python versions\n",
    "print(torch.__version__)\n",
    "print(sys.version)\n"
   ]
  },
  {
   "cell_type": "code",
   "execution_count": 5,
   "metadata": {},
   "outputs": [],
   "source": [
    "FEATURES_FOLDER = r'/tmp/train-data'\n",
    "FEATS_SIZE = 256\n",
    "NUM_CLASSES = 1\n",
    "NUM_EPOCHS = 50\n",
    "TASK = 'stomach_urg'\n",
    "lr = 5e-3\n",
    "weight_decay = 1e-4\n",
    "CLASSES = ['Primary Tumor', 'Solid Tissue Normal']\n",
    "OVERSAMPLE_MINORITY = True\n",
    "STAGES_FILES = {'train': 'stomach_json_train.json'}  #{'train': 'prostate_json_train.json', 'val': 'prostate_json_test.json'}\n",
    "USE_VALIDATION = len(STAGES_FILES.keys()) > 1\n",
    "TEST_FILE = 'stomach_json_test.json'"
   ]
  },
  {
   "cell_type": "code",
   "execution_count": 6,
   "metadata": {},
   "outputs": [
    {
     "name": "stdout",
     "output_type": "stream",
     "text": [
      "Counts prior oversample {'Primary Tumor': 306, 'Solid Tissue Normal': 60}\n",
      "After oversample {'Primary Tumor': 306, 'Solid Tissue Normal': 300}\n"
     ]
    }
   ],
   "source": [
    "loader = {}\n",
    "for stage in STAGES_FILES.keys():\n",
    "    dataset = WSIData(features_dir=FEATURES_FOLDER, stage=stage, task=TASK, json_name=STAGES_FILES[stage],\n",
    "                      classes_to_use=CLASSES, oversample_minority=OVERSAMPLE_MINORITY)\n",
    "    data_loader = DataLoader(dataset, batch_size=1, num_workers=0, shuffle=True)\n",
    "    loader.update({stage: data_loader})"
   ]
  },
  {
   "cell_type": "code",
   "execution_count": 7,
   "metadata": {},
   "outputs": [
    {
     "data": {
      "text/plain": [
       "False"
      ]
     },
     "execution_count": 7,
     "metadata": {},
     "output_type": "execute_result"
    }
   ],
   "source": [
    "USE_VALIDATION"
   ]
  },
  {
   "cell_type": "code",
   "execution_count": 8,
   "metadata": {},
   "outputs": [],
   "source": [
    "def load_dsmil(feats_size, num_classes):\n",
    "    device = torch.device(\"cuda\" if torch.cuda.is_available() else \"cpu\")\n",
    "    i_classifier = FCLayer(in_size=feats_size, out_size=num_classes).to(device)\n",
    "    b_classifier = BClassifier(input_size=feats_size, output_class=num_classes, dropout_v = 0., nonlinear = 1).to(device)\n",
    "    return MILNet(i_classifier, b_classifier).to(device)"
   ]
  },
  {
   "cell_type": "code",
   "execution_count": 9,
   "metadata": {},
   "outputs": [],
   "source": [
    "model = load_dsmil(FEATS_SIZE, NUM_CLASSES)"
   ]
  },
  {
   "cell_type": "code",
   "execution_count": 10,
   "metadata": {
    "scrolled": true
   },
   "outputs": [
    {
     "name": "stderr",
     "output_type": "stream",
     "text": [
      "  0%|          | 0/1 [00:00<?, ?it/s]"
     ]
    },
    {
     "name": "stdout",
     "output_type": "stream",
     "text": [
      "Experiment 1/1\n"
     ]
    },
    {
     "name": "stderr",
     "output_type": "stream",
     "text": [
      "\n",
      "  0%|          | 0/1 [00:00<?, ?it/s]\u001b[A\n",
      "100%|██████████| 1/1 [00:52<00:00, 52.50s/it]\u001b[A\n",
      "100%|██████████| 1/1 [00:52<00:00, 52.51s/it]"
     ]
    },
    {
     "name": "stdout",
     "output_type": "stream",
     "text": [
      " Epoch [1/1]  train loss: 0.2963, val loss: -1.0000, average score: -1.0000, auc: -1.0000\n",
      "AUC 0.0 Best Epoch -1 Seed: 7101 Threshold:  -1\n"
     ]
    },
    {
     "name": "stderr",
     "output_type": "stream",
     "text": [
      "\n"
     ]
    }
   ],
   "source": [
    "train_dsmil_model(model, loader, num_runs=1, lr=lr, weight_decay=weight_decay, num_epochs=NUM_EPOCHS,\n",
    "                  num_classes=NUM_CLASSES, feats_size=FEATS_SIZE, use_validation=USE_VALIDATION)"
   ]
  },
  {
   "cell_type": "code",
   "execution_count": 11,
   "metadata": {},
   "outputs": [
    {
     "data": {
      "text/plain": [
       "MILNet(\n",
       "  (i_classifier): FCLayer(\n",
       "    (fc): Sequential(\n",
       "      (0): Linear(in_features=256, out_features=1, bias=True)\n",
       "    )\n",
       "  )\n",
       "  (b_classifier): BClassifier(\n",
       "    (q): Sequential(\n",
       "      (0): Linear(in_features=256, out_features=128, bias=True)\n",
       "      (1): ReLU()\n",
       "      (2): Linear(in_features=128, out_features=128, bias=True)\n",
       "      (3): Tanh()\n",
       "    )\n",
       "    (v): Identity()\n",
       "    (fcc): Conv1d(1, 1, kernel_size=(256,), stride=(1,))\n",
       "  )\n",
       ")"
      ]
     },
     "execution_count": 11,
     "metadata": {},
     "output_type": "execute_result"
    }
   ],
   "source": [
    "model"
   ]
  },
  {
   "cell_type": "code",
   "execution_count": 11,
   "metadata": {},
   "outputs": [],
   "source": [
    "test_dataset = WSIData(features_dir=FEATURES_FOLDER, stage='test', task=TASK, json_name=TEST_FILE,\n",
    "                       classes_to_use=CLASSES, oversample_minority=False)\n",
    "test_loader = DataLoader(test_dataset, batch_size=1, num_workers=0, shuffle=True)\n",
    "auc_value, test_labels, test_predictions = test_dsmil_model(model, test_loader, feats_size=256, num_classes=1)"
   ]
  },
  {
   "cell_type": "code",
   "execution_count": 12,
   "metadata": {},
   "outputs": [
    {
     "name": "stdout",
     "output_type": "stream",
     "text": [
      "0.9868491680085882\n"
     ]
    }
   ],
   "source": [
    "print(auc_value)"
   ]
  },
  {
   "cell_type": "code",
   "execution_count": 13,
   "metadata": {},
   "outputs": [
    {
     "data": {
      "image/png": "[encoded data removed]",
      "text/plain": [
       "<Figure size 640x480 with 1 Axes>"
      ]
     },
     "metadata": {},
     "output_type": "display_data"
    }
   ],
   "source": [
    "from sklearn.metrics import confusion_matrix, roc_curve, roc_auc_score\n",
    "fpr, tpr, _ = roc_curve(test_labels, test_predictions)\n",
    "plt.figure()\n",
    "plt.plot(fpr, tpr, color=\"darkorange\")\n",
    "plt.plot([0, 1], [0, 1], color=\"navy\", linestyle=\"--\")\n",
    "plt.xlim([0.0, 1.0])\n",
    "plt.ylim([0.0, 1.05])\n",
    "plt.xlabel(\"False Positive Rate\")\n",
    "plt.ylabel(\"True Positive Rate\")\n",
    "plt.title('AUC: %f' % (auc_value))\n",
    "plt.savefig('roc_stomach.png', dpi=300)\n",
    "plt.show()"
   ]
  },
  {
   "cell_type": "code",
   "execution_count": 15,
   "metadata": {},
   "outputs": [
    {
     "name": "stdout",
     "output_type": "stream",
     "text": [
      "[[133   5]\n",
      " [  0  27]]\n"
     ]
    }
   ],
   "source": [
    "cm = confusion_matrix(test_labels, [x > 0.5 for x in test_predictions])\n",
    "print(cm)"
   ]
  },
  {
   "cell_type": "code",
   "execution_count": 16,
   "metadata": {},
   "outputs": [
    {
     "name": "stdout",
     "output_type": "stream",
     "text": [
      "stomach_urg\n",
      "Specibility 1.0\n",
      "Sensibility 0.9637681159420289\n"
     ]
    }
   ],
   "source": [
    "sensibility = cm[0,0]/(cm[0,0] + cm[0,1])\n",
    "specificity = cm[1,1]/(cm[1,1] + cm[1,0])\n",
    "\n",
    "print(TASK)\n",
    "print('Specibility', specificity)\n",
    "print('Sensibility', sensibility)"
   ]
  },
  {
   "cell_type": "code",
   "execution_count": 18,
   "metadata": {},
   "outputs": [
    {
     "data": {
      "text/plain": [
       "0.7714285714285715"
      ]
     },
     "execution_count": 18,
     "metadata": {},
     "output_type": "execute_result"
    }
   ],
   "source": [
    "27/(27 + 8)"
   ]
  },
  {
   "cell_type": "code",
   "execution_count": 17,
   "metadata": {},
   "outputs": [
    {
     "data": {
      "text/plain": [
       "0.9629629629629629"
      ]
     },
     "execution_count": 17,
     "metadata": {},
     "output_type": "execute_result"
    }
   ],
   "source": [
    "26/(26 + 1)"
   ]
  },
  {
   "cell_type": "code",
   "execution_count": null,
   "metadata": {},
   "outputs": [],
   "source": []
  }
 ],
 "metadata": {
  "kernelspec": {
   "display_name": "Python 3 (ipykernel)",
   "language": "python",
   "name": "python3"
  },
  "language_info": {
   "codemirror_mode": {
    "name": "ipython",
    "version": 3
   },
   "file_extension": ".py",
   "mimetype": "text/x-python",
   "name": "python",
   "nbconvert_exporter": "python",
   "pygments_lexer": "ipython3",
   "version": "3.10.13"
  }
 },
 "nbformat": 4,
 "nbformat_minor": 4
}
