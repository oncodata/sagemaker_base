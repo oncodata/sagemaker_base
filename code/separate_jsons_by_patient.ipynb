{
 "cells": [
  {
   "cell_type": "code",
   "execution_count": 20,
   "id": "60c029bc",
   "metadata": {},
   "outputs": [],
   "source": [
    "import json"
   ]
  },
  {
   "cell_type": "code",
   "execution_count": 2,
   "id": "e111af03",
   "metadata": {},
   "outputs": [
    {
     "name": "stdout",
     "output_type": "stream",
     "text": [
      " O volume na unidade C é OS\n",
      " O Número de Série do Volume é 1299-FF61\n",
      "\n",
      " Pasta de C:\\Users\\danie\\Documents\\OncoData_roraima\\dsmil_stomach\n",
      "\n",
      "19/02/2024  20:57           178.769 stomach_json.json\n",
      "               1 arquivo(s)        178.769 bytes\n",
      "               0 pasta(s)   152.917.454.848 bytes disponíveis\n"
     ]
    }
   ],
   "source": [
    "ls *.json"
   ]
  },
  {
   "cell_type": "code",
   "execution_count": 57,
   "id": "0b86d728",
   "metadata": {},
   "outputs": [],
   "source": [
    "INPUT_FILENAME = 'stomach_json.json'\n",
    "INPUT_JSON = json.loads(open(INPUT_FILENAME, 'r').read())\n",
    "DIVISION_TRAIN = 0.7\n",
    "DESIRED_TARGETS = ['Primary Tumor', 'Solid Tissue Normal']"
   ]
  },
  {
   "cell_type": "code",
   "execution_count": 58,
   "id": "fac89660-8e00-49f0-85d8-b6ab7e60017f",
   "metadata": {},
   "outputs": [],
   "source": [
    "for input in INPUT_JSON:\n",
    "    input['image_path'] = input['image_path'].replace('D:\\\\Stomach_tissue\\\\', '/tmp/train-data/').replace('\\\\', '/')"
   ]
  },
  {
   "cell_type": "code",
   "execution_count": 59,
   "id": "338a08a2",
   "metadata": {},
   "outputs": [
    {
     "data": {
      "text/plain": [
       "{'image_tag': 'Primary Tumor',\n",
       " 'image_path': '/tmp/train-data/f13da9d5-8de5-477d-b160-b1f8ae8e4adf/TCGA-CG-4476-01A-01-TS1.445551b3-54ac-4d7b-80b9-23bc0ecb3812.svs',\n",
       " 'dataset': 'Primary Tumor',\n",
       " 'participant': '4476',\n",
       " 'size_gb': 0.060468733,\n",
       " 'size_img': [16000, 12776]}"
      ]
     },
     "execution_count": 59,
     "metadata": {},
     "output_type": "execute_result"
    }
   ],
   "source": [
    "INPUT_JSON[0]"
   ]
  },
  {
   "cell_type": "code",
   "execution_count": 60,
   "id": "9296f6e5",
   "metadata": {},
   "outputs": [],
   "source": [
    "TARGET_JSON = [i for i in INPUT_JSON if i['image_tag'] in DESIRED_TARGETS]"
   ]
  },
  {
   "cell_type": "code",
   "execution_count": 61,
   "id": "9e55d826",
   "metadata": {},
   "outputs": [
    {
     "data": {
      "text/plain": [
       "(532, 532)"
      ]
     },
     "execution_count": 61,
     "metadata": {},
     "output_type": "execute_result"
    }
   ],
   "source": [
    "len(TARGET_JSON), len(INPUT_JSON)"
   ]
  },
  {
   "cell_type": "code",
   "execution_count": 62,
   "id": "3c949dc1",
   "metadata": {},
   "outputs": [],
   "source": [
    "def divide_by_participant(input_json):\n",
    "    grouped = {}\n",
    "    for i in input_json:\n",
    "        p = i['participant']\n",
    "        if p in grouped:\n",
    "            grouped[p].append(i)\n",
    "        else:\n",
    "            grouped[p] = [i]\n",
    "    return grouped"
   ]
  },
  {
   "cell_type": "code",
   "execution_count": 63,
   "id": "931cd0fb",
   "metadata": {},
   "outputs": [],
   "source": [
    "grouped = divide_by_participant(TARGET_JSON)"
   ]
  },
  {
   "cell_type": "code",
   "execution_count": 64,
   "id": "5bdff84b",
   "metadata": {},
   "outputs": [],
   "source": [
    "def make_division(grouping, train_perc):\n",
    "    train = []\n",
    "    test = []\n",
    "    divide_by_size = {}\n",
    "    for key in grouping.keys():\n",
    "        num_imgs = len(grouping[key])\n",
    "        if num_imgs in divide_by_size:\n",
    "            divide_by_size[num_imgs].append(key)\n",
    "        else:\n",
    "            divide_by_size[num_imgs] = [key]\n",
    "    \n",
    "    for key in divide_by_size.keys():\n",
    "        num_keys = len(divide_by_size[key])\n",
    "        train_keys = divide_by_size[key][:int(train_perc*num_keys)]\n",
    "        test_keys = divide_by_size[key][int(train_perc*num_keys):]\n",
    "        \n",
    "        for sub_key in train_keys:\n",
    "            train += grouping[sub_key]\n",
    "        for sub_key in test_keys:\n",
    "            test += grouping[sub_key]\n",
    "    return train, test"
   ]
  },
  {
   "cell_type": "code",
   "execution_count": 65,
   "id": "b9c42e9a",
   "metadata": {},
   "outputs": [],
   "source": [
    "train_data, test_data = make_division(grouped, DIVISION_TRAIN)"
   ]
  },
  {
   "cell_type": "code",
   "execution_count": 66,
   "id": "beae0606",
   "metadata": {},
   "outputs": [
    {
     "data": {
      "text/plain": [
       "0.6898496240601504"
      ]
     },
     "execution_count": 66,
     "metadata": {},
     "output_type": "execute_result"
    }
   ],
   "source": [
    "len(train_data)/(len(train_data) + len(test_data))"
   ]
  },
  {
   "cell_type": "code",
   "execution_count": 67,
   "id": "6418025f",
   "metadata": {},
   "outputs": [
    {
     "data": {
      "text/plain": [
       "60"
      ]
     },
     "execution_count": 67,
     "metadata": {},
     "output_type": "execute_result"
    }
   ],
   "source": [
    "len([t for t in train_data if t['image_tag'] == 'Solid Tissue Normal'])"
   ]
  },
  {
   "cell_type": "code",
   "execution_count": 68,
   "id": "9f0b5965",
   "metadata": {},
   "outputs": [
    {
     "data": {
      "text/plain": [
       "307"
      ]
     },
     "execution_count": 68,
     "metadata": {},
     "output_type": "execute_result"
    }
   ],
   "source": [
    "len([t for t in train_data if t['image_tag'] == 'Primary Tumor'])"
   ]
  },
  {
   "cell_type": "code",
   "execution_count": 69,
   "id": "bea30076",
   "metadata": {},
   "outputs": [],
   "source": [
    "out = open(INPUT_FILENAME.replace('.json', '') + '_train.json', 'w')\n",
    "out.write(json.dumps(train_data, indent=2))\n",
    "out.close()"
   ]
  },
  {
   "cell_type": "code",
   "execution_count": 70,
   "id": "0ca267d9",
   "metadata": {},
   "outputs": [],
   "source": [
    "out = open(INPUT_FILENAME.replace('.json', '') + '_test.json', 'w')\n",
    "out.write(json.dumps(test_data, indent=2))\n",
    "out.close()"
   ]
  },
  {
   "cell_type": "code",
   "execution_count": null,
   "id": "ec30e9e9",
   "metadata": {},
   "outputs": [],
   "source": []
  },
  {
   "cell_type": "code",
   "execution_count": null,
   "id": "4cf9060d-fd93-44a3-b53d-bd737d2a64ba",
   "metadata": {},
   "outputs": [],
   "source": []
  }
 ],
 "metadata": {
  "kernelspec": {
   "display_name": "Python 3 (ipykernel)",
   "language": "python",
   "name": "python3"
  },
  "language_info": {
   "codemirror_mode": {
    "name": "ipython",
    "version": 3
   },
   "file_extension": ".py",
   "mimetype": "text/x-python",
   "name": "python",
   "nbconvert_exporter": "python",
   "pygments_lexer": "ipython3",
   "version": "3.10.13"
  }
 },
 "nbformat": 4,
 "nbformat_minor": 5
}
